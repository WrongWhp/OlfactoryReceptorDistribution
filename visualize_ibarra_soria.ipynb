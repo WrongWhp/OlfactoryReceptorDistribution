{
 "cells": [
  {
   "cell_type": "code",
   "execution_count": null,
   "metadata": {
    "collapsed": true
   },
   "outputs": [],
   "source": [
    "import numpy as np\n",
    "import pandas as pd\n",
    "import os"
   ]
  },
  {
   "cell_type": "code",
   "execution_count": null,
   "metadata": {
    "collapsed": true
   },
   "outputs": [],
   "source": [
    "%matplotlib inline\n",
    "import matplotlib.pyplot as plt\n",
    "import seaborn as sns\n",
    "sns.set_style('white')"
   ]
  },
  {
   "cell_type": "code",
   "execution_count": null,
   "metadata": {
    "collapsed": true
   },
   "outputs": [],
   "source": [
    "data = pd.read_csv(os.path.join('data', 'ibarraSoriaIntermittentExposureResults.csv'), thousands=',')"
   ]
  },
  {
   "cell_type": "code",
   "execution_count": null,
   "metadata": {
    "collapsed": true
   },
   "outputs": [],
   "source": [
    "data_control = data[['control' + str(_ + 1) for _ in range(6)]].copy(deep=True)\n",
    "data_exposed = data[['exposed' + str(_ + 1) for _ in range(6)]].copy(deep=True)"
   ]
  },
  {
   "cell_type": "code",
   "execution_count": null,
   "metadata": {
    "collapsed": true
   },
   "outputs": [],
   "source": [
    "# normalize the data\n",
    "total = np.mean(data_control.sum(axis=0))\n",
    "for col_name in data_control.columns:\n",
    "    data_control.loc[:, col_name] = data_control[col_name] / data_control[col_name].sum() * total\n",
    "for col_name in data_exposed.columns:\n",
    "    data_exposed.loc[:, col_name] = data_exposed[col_name] / data_exposed[col_name].sum() * total"
   ]
  },
  {
   "cell_type": "code",
   "execution_count": null,
   "metadata": {
    "collapsed": true
   },
   "outputs": [],
   "source": [
    "eps = np.spacing(1.0)\n",
    "\n",
    "data_control_mean = data_control.mean(axis=1)\n",
    "#data_control_mean = data_control.median(axis=1)\n",
    "data_control_std = data_control.std(axis=1)/np.sqrt(6) # sem\n",
    "data_control_std_rel = data_control_std / (data_control_mean + eps)\n",
    "\n",
    "data_exposed_mean = data_exposed.mean(axis=1)\n",
    "#data_exposed_mean = data_exposed.median(axis=1)\n",
    "data_exposed_std = data_exposed.std(axis=1)/np.sqrt(6) # sem\n",
    "data_exposed_std_rel = data_exposed_std / (data_exposed_mean + eps)"
   ]
  },
  {
   "cell_type": "code",
   "execution_count": null,
   "metadata": {
    "collapsed": true
   },
   "outputs": [],
   "source": [
    "from scipy.io import savemat\n",
    "\n",
    "savemat(os.path.join('data', 'ibarra_soria_data.mat'),\n",
    "        {'control_mean': data_control_mean.as_matrix(),\n",
    "         'control_std': data_control_std.as_matrix(),\n",
    "         'exposed_mean': data_exposed_mean.as_matrix(),\n",
    "         'exposed_std': data_exposed_std.as_matrix(),\n",
    "         'gene': data['gene'].as_matrix()})"
   ]
  },
  {
   "cell_type": "code",
   "execution_count": null,
   "metadata": {
    "collapsed": true
   },
   "outputs": [],
   "source": [
    "fold_change = (data_exposed_mean + eps) / (data_control_mean + eps)\n",
    "fold_change_std_rel = data_control_std_rel + data_exposed_std_rel\n",
    "fold_change_std = fold_change*fold_change_std_rel\n",
    "\n",
    "log_fold_change = np.log2(fold_change)\n",
    "log_fold_change_std = fold_change_std_rel"
   ]
  },
  {
   "cell_type": "code",
   "execution_count": null,
   "metadata": {},
   "outputs": [],
   "source": [
    "plt.figure(figsize=(2.9, 2.3))\n",
    "\n",
    "plt.errorbar(data_control_mean, log_fold_change, xerr=data_control_std, yerr=fold_change_std_rel,\n",
    "             fmt='none', ecolor=[0.5, 0.5, 0.5], elinewidth=0.5)\n",
    "plt.semilogx(data_control_mean, log_fold_change, '.', markersize=4)\n",
    "plt.axhline(0, color='r', alpha=0.3)\n",
    "plt.xlim(0.07, 3e4)\n",
    "plt.ylim(-2.5, 2.5);\n",
    "\n",
    "plt.xlabel('RNAseq counts, control', fontsize=8)\n",
    "plt.ylabel('$\\log_2$ fold change exposed/control', fontsize=8)\n",
    "\n",
    "plt.savefig(os.path.join('figs', 'ibarra_soria_Fig5B_remake.pdf'), bbox_inches='tight')\n",
    "\n",
    "#plt.semilogx(data_control_mean[442], log_fold_change[442], '.', color='r');"
   ]
  },
  {
   "cell_type": "code",
   "execution_count": null,
   "metadata": {},
   "outputs": [],
   "source": [
    "#_ = plt.hist(np.log10(data_control_mean[data_control_mean > 0]), 50)\n",
    "fig = plt.figure()\n",
    "ax = fig.add_subplot(111)\n",
    "ax.hist(data_control_mean[data_control_mean > 0], bins=np.logspace(-1, 4, 50))\n",
    "ax.set_xscale('log')\n",
    "ax.set_xlabel('RNAseq counts')\n",
    "\n",
    "# plt.savefig(os.path.join('figs', 'ibarra_soria_histogram.pdf'))"
   ]
  },
  {
   "cell_type": "code",
   "execution_count": null,
   "metadata": {},
   "outputs": [],
   "source": [
    "fig = plt.figure(figsize=(7, 1.5))\n",
    "ax = fig.add_subplot(111)\n",
    "# np.random.seed(1243)\n",
    "ax.fill_between(list(range(len(data_control_mean))), 0, data_control_mean)\n",
    "ax.set_yscale('log')\n",
    "ax.set_xlabel('Receptor index')\n",
    "ax.set_ylabel('Copy number')\n",
    "ax.set_xlim(0, len(data_control_mean))\n",
    "sns.despine()\n",
    "# ax.semilogy(data_control_mean)\n",
    "# ax.bar(list(range(len(data_control_mean))), np.random.permutation(data_control_mean))\n",
    "# sns.barplot(list(range(len(data_control_mean))), np.random.permutation(data_control_mean))\n",
    "\n",
    "# plt.savefig(os.path.join('figs', 'receptor_distribution_ibarra_soria.svg', bbox_inches='tight'))"
   ]
  },
  {
   "cell_type": "code",
   "execution_count": null,
   "metadata": {},
   "outputs": [],
   "source": [
    "# control_var_range = data_control.quantile([0.2, 0.8], axis=1).as_matrix()\n",
    "# control_var_range = data_control.quantile([0.05, 0.95], axis=1).as_matrix()\n",
    "control_var_range = data_control.quantile([0.25, 0.75], axis=1).as_matrix()\n",
    "fig = plt.figure(figsize=(7, 1.5))\n",
    "ax = fig.add_subplot(111)\n",
    "np.random.seed(1243)\n",
    "ax.fill_between(list(range(len(data_control_mean))), control_var_range[0], control_var_range[1], color='r', alpha=0.2)\n",
    "ax.plot(data_control_mean, lw=0.5)\n",
    "ax.set_yscale('log')\n",
    "ax.set_xlabel('Receptor index')\n",
    "ax.set_ylabel('Copy number')\n",
    "ax.set_xlim(0, len(data_control_mean))\n",
    "sns.despine()\n",
    "# ax.semilogy(data_control_mean)\n",
    "\n",
    "# plt.savefig('receptor_distribution_ibarra_soria_variation.svg', bbox_inches='tight')"
   ]
  },
  {
   "cell_type": "code",
   "execution_count": null,
   "metadata": {
    "collapsed": true
   },
   "outputs": [],
   "source": []
  }
 ],
 "metadata": {
  "kernelspec": {
   "display_name": "Python 3",
   "language": "python",
   "name": "python3"
  },
  "language_info": {
   "codemirror_mode": {
    "name": "ipython",
    "version": 3
   },
   "file_extension": ".py",
   "mimetype": "text/x-python",
   "name": "python",
   "nbconvert_exporter": "python",
   "pygments_lexer": "ipython3",
   "version": "3.6.4"
  }
 },
 "nbformat": 4,
 "nbformat_minor": 2
}
